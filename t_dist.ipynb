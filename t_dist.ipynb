{
 "cells": [
  {
   "cell_type": "code",
   "execution_count": null,
   "metadata": {},
   "outputs": [],
   "source": [
    "import json\n",
    "import re\n",
    "import gensim\n",
    "import nltk\n",
    "from gensim import corpora\n",
    "from gensim.models import LdaModel\n",
    "from nltk.corpus import stopwords\n",
    "from nltk.tokenize import word_tokenize\n",
    "import pyLDAvis.gensim_models as gensimvis\n",
    "import pyLDAvis\n",
    "\n",
    "database = 'database_packs/training_v1/joint_poems_v1.jsonl'\n",
    "\n",
    "# Load JSONL file\n",
    "with open(database, \"r\", encoding=\"utf-8\") as f:\n",
    "    poems = [json.loads(line)[\"text\"] for line in f]\n",
    "\n",
    "# Preprocess text\n",
    "stop_words = set(stopwords.words(\"english\"))\n",
    "def preprocess_text(text):\n",
    "    text = re.sub(r'\\s+', ' ', text)  # Remove extra spaces\n",
    "    text = re.sub(r'\\W+', ' ', text.lower())  # Remove punctuation\n",
    "    tokens = word_tokenize(text)\n",
    "    return [word for word in tokens if word not in stop_words and len(word) > 2]\n",
    "\n",
    "# Tokenize and prepare documents\n",
    "processed_poems = [preprocess_text(poem) for poem in poems]\n",
    "\n",
    "# Create dictionary and corpus\n",
    "dictionary = corpora.Dictionary(processed_poems)\n",
    "corpus = [dictionary.doc2bow(poem) for poem in processed_poems]\n",
    "\n",
    "# Train LDA model\n",
    "lda_model = LdaModel(corpus=corpus, id2word=dictionary, num_topics=7, random_state=42, passes=10, alpha='auto', per_word_topics=True)\n",
    "\n",
    "# Visualize topics\n",
    "lda_vis = gensimvis.prepare(lda_model, corpus, dictionary)\n",
    "pyLDAvis.display(lda_vis)"
   ]
  }
 ],
 "metadata": {
  "language_info": {
   "name": "python"
  }
 },
 "nbformat": 4,
 "nbformat_minor": 2
}
